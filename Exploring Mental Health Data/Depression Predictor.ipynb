{
 "cells": [
  {
   "cell_type": "markdown",
   "id": "75a454ca",
   "metadata": {},
   "source": [
    "https://www.kaggle.com/competitions/playground-series-s4e11"
   ]
  },
  {
   "cell_type": "code",
   "execution_count": null,
   "id": "26d8862b",
   "metadata": {
    "vscode": {
     "languageId": "plaintext"
    }
   },
   "outputs": [],
   "source": [
    "import torch\n",
    "import torch.nn as nn\n",
    "import "
   ]
  }
 ],
 "metadata": {
  "kernelspec": {
   "display_name": "Python [conda env:wip]",
   "language": "python",
   "name": "conda-env-wip-py"
  },
  "language_info": {
   "codemirror_mode": {
    "name": "ipython",
    "version": 3
   },
   "file_extension": ".py",
   "mimetype": "text/x-python",
   "name": "python",
   "nbconvert_exporter": "python",
   "pygments_lexer": "ipython3",
   "version": "3.9.20"
  }
 },
 "nbformat": 4,
 "nbformat_minor": 5
}
