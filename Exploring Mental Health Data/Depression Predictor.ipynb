{
 "cells": [
  {
   "cell_type": "markdown",
   "id": "75a454ca",
   "metadata": {},
   "source": [
    "https://www.kaggle.com/competitions/playground-series-s4e11"
   ]
  },
  {
   "cell_type": "code",
   "execution_count": 48,
   "id": "26d8862b",
   "metadata": {
    "vscode": {
     "languageId": "plaintext"
    }
   },
   "outputs": [],
   "source": [
    "import torch\n",
    "import torch.nn as nn\n",
    "import torch.nn.functional as F\n",
    "import pandas as pd\n",
    "import numpy as np\n",
    "import seaborn as sns\n",
    "import matplotlib.pyplot as plt\n",
    "from sklearn.impute import SimpleImputer"
   ]
  },
  {
   "cell_type": "markdown",
   "id": "1fa812dc-8cfc-4a9f-b4bd-f3887304f173",
   "metadata": {},
   "source": [
    "<h1>Data Preprocessing/Analyzing</h1>"
   ]
  },
  {
   "cell_type": "code",
   "execution_count": 109,
   "id": "627232e8-5e8b-4e84-a1d4-3d99a5767132",
   "metadata": {},
   "outputs": [],
   "source": [
    "train = pd.read_csv(\"train.csv\")\n",
    "test = pd.read_csv(\"test.csv\")"
   ]
  },
  {
   "cell_type": "code",
   "execution_count": 110,
   "id": "ce9cd12a-8496-402c-b107-dd395c6e2539",
   "metadata": {},
   "outputs": [
    {
     "name": "stdout",
     "output_type": "stream",
     "text": [
      "TRAIN:\n",
      "---Gender---\n",
      "['Female' 'Male']\n",
      "---Working Professional or Student---\n",
      "['Working Professional' 'Student']\n",
      "---Dietary Habits---\n",
      "['Healthy' 'Unhealthy' 'Moderate' 'Yes' 'Pratham' 'BSc' 'Gender' '3'\n",
      " 'More Healthy' 'Less than Healthy' 'Mihir' '1.0' 'Hormonal' 'Electrician'\n",
      " nan 'No Healthy' 'Less Healthy' 'M.Tech' 'Vegas' 'No' 'Male' 'Indoor'\n",
      " 'Class 12' '2']\n",
      "---Have you ever had suicidal thoughts ?---\n",
      "['No' 'Yes']\n",
      "---Family History of Mental Illness---\n",
      "['No' 'Yes']\n",
      "\n",
      "TEST:\n",
      "---Gender---\n",
      "['Male' 'Female']\n",
      "---Working Professional or Student---\n",
      "['Working Professional' 'Student']\n",
      "---Dietary Habits---\n",
      "['Moderate' 'Healthy' 'Unhealthy' 'More Healthy' 'No' 'Indoor' 'Prachi'\n",
      " nan 'Male' 'Less Healthy' 'Mealy' 'Resistant' 'MCA' '5 Healthy'\n",
      " 'Academic' 'Educational' 'Soham' '5 Unhealthy' 'Vivaan' 'Raghav' '1.0'\n",
      " 'Naina' 'Kolkata']\n",
      "---Have you ever had suicidal thoughts ?---\n",
      "['No' 'Yes']\n",
      "---Family History of Mental Illness---\n",
      "['Yes' 'No']\n"
     ]
    }
   ],
   "source": [
    "# Get unique values in categorical columns. This is needed because there is some bad data that cannot be automated out\n",
    "cols = [\"Gender\", \"Working Professional or Student\", \"Dietary Habits\", \n",
    "        \"Have you ever had suicidal thoughts ?\", \"Family History of Mental Illness\"]\n",
    "\n",
    "print(\"TRAIN:\")\n",
    "for i in cols:\n",
    "    print(f\"---{i}---\")\n",
    "    print(train[i].unique())\n",
    "\n",
    "print(\"\\nTEST:\")\n",
    "for i in cols:\n",
    "    print(f\"---{i}---\")\n",
    "    print(test[i].unique())"
   ]
  },
  {
   "cell_type": "code",
   "execution_count": 111,
   "id": "1ff3ce2a-7c4e-49da-834d-05882e094041",
   "metadata": {},
   "outputs": [],
   "source": [
    "# Clean out bad values\n",
    "train.loc[~train[\"Dietary Habits\"].isin([\"Healthy\", \"Unhealthy\", \"Moderate\"]), \"Dietary Habits\"] = \"Moderate\"\n",
    "test.loc[~test[\"Dietary Habits\"].isin([\"Healthy\", \"Unhealthy\", \"Moderate\"]), \"Dietary Habits\"] = \"Moderate\""
   ]
  },
  {
   "cell_type": "code",
   "execution_count": 112,
   "id": "c5738fd4-6cdc-4f60-8b30-39c0ab2509c4",
   "metadata": {},
   "outputs": [
    {
     "name": "stdout",
     "output_type": "stream",
     "text": [
      "TRAIN:\n",
      "---Gender---\n",
      "['Female' 'Male']\n",
      "---Working Professional or Student---\n",
      "['Working Professional' 'Student']\n",
      "---Dietary Habits---\n",
      "['Healthy' 'Unhealthy' 'Moderate']\n",
      "---Have you ever had suicidal thoughts ?---\n",
      "['No' 'Yes']\n",
      "---Family History of Mental Illness---\n",
      "['No' 'Yes']\n",
      "\n",
      "TEST:\n",
      "---Gender---\n",
      "['Male' 'Female']\n",
      "---Working Professional or Student---\n",
      "['Working Professional' 'Student']\n",
      "---Dietary Habits---\n",
      "['Moderate' 'Healthy' 'Unhealthy']\n",
      "---Have you ever had suicidal thoughts ?---\n",
      "['No' 'Yes']\n",
      "---Family History of Mental Illness---\n",
      "['Yes' 'No']\n"
     ]
    }
   ],
   "source": [
    "# Check that cleaning worked\n",
    "cols = [\"Gender\", \"Working Professional or Student\", \"Dietary Habits\", \n",
    "        \"Have you ever had suicidal thoughts ?\", \"Family History of Mental Illness\"]\n",
    "\n",
    "print(\"TRAIN:\")\n",
    "for i in cols:\n",
    "    print(f\"---{i}---\")\n",
    "    print(train[i].unique())\n",
    "\n",
    "print(\"\\nTEST:\")\n",
    "for i in cols:\n",
    "    print(f\"---{i}---\")\n",
    "    print(test[i].unique())"
   ]
  },
  {
   "cell_type": "code",
   "execution_count": 113,
   "id": "1ceda139-744c-46be-b455-38d6ce6ba0d7",
   "metadata": {},
   "outputs": [
    {
     "name": "stdout",
     "output_type": "stream",
     "text": [
      "(140700, 18)\n",
      "(93800, 18)\n"
     ]
    }
   ],
   "source": [
    "XTrain = train.drop([\"Profession\", \"Sleep Duration\", \"Degree\", \"CGPA\", \"City\", \"id\", \"Name\", \"Depression\"], axis = 1)\n",
    "yTrain = train[\"Depression\"]\n",
    "\n",
    "XTest = test.drop([\"Profession\", \"Sleep Duration\", \"Degree\", \"CGPA\", \"City\", \"id\", \"Name\"], axis = 1)\n",
    "\n",
    "# encoding categorical columns\n",
    "catCols = XTrain.select_dtypes(include = [\"object\"]).columns\n",
    "# Filter out incorrectly input data\n",
    "catCols = [col for col in catCols if XTrain[col].nunique() > 1]\n",
    "XTrain = pd.get_dummies(XTrain, columns = catCols)\n",
    "XTest = pd.get_dummies(XTest, columns = catCols)\n",
    "\n",
    "# cleaning up NaNs\n",
    "imputer = SimpleImputer(strategy = \"mean\")\n",
    "XTrain = pd.DataFrame(imputer.fit_transform(XTrain), columns = XTrain.columns)\n",
    "XTest = pd.DataFrame(imputer.fit_transform(XTest), columns = XTest.columns)\n",
    "\n",
    "XTrain.to_csv(\"XTrain.csv\", index = False)\n",
    "XTest.to_csv(\"XTest.csv\", index = False)\n",
    "\n",
    "print(XTrain.shape)\n",
    "print(XTest.shape)\n",
    "\n",
    "# Make into numpy arrays\n",
    "XTrain = XTrain.values\n",
    "yTrain = yTrain.values\n",
    "XTest = XTest.values\n",
    "\n",
    "# Make into tensors\n",
    "XTrain = torch.FloatTensor(XTrain)\n",
    "yTrain = torch.LongTensor(yTrain)\n",
    "XTest = torch.FloatTensor(XTest)"
   ]
  },
  {
   "cell_type": "markdown",
   "id": "d585bb4e-ed39-4225-99f6-fdc8537fb8f3",
   "metadata": {},
   "source": [
    "<h1>Building the model</h1>"
   ]
  },
  {
   "cell_type": "code",
   "execution_count": 114,
   "id": "0b086da5-e465-47d5-b460-953bc7c7357c",
   "metadata": {},
   "outputs": [],
   "source": [
    "class Model(nn.Module):\n",
    "    def __init__(self, inFeats = 18, h1 = 10, h2 = 15, outFeats = 2):\n",
    "        super().__init__()\n",
    "        self.fc1 = nn.Linear(inFeats, h1)\n",
    "        self.fc2 = nn.Linear(h1, h2)\n",
    "        self.out = nn.Linear(h2, outFeats)\n",
    "\n",
    "    def forward(self, x):\n",
    "        x = F.relu(self.fc1(x))\n",
    "        x = F.relu(self.fc2(x))\n",
    "        x = self.out(x)\n",
    "        return x"
   ]
  },
  {
   "cell_type": "code",
   "execution_count": 115,
   "id": "1ca558c3-52eb-477f-82fe-872f71e09f5e",
   "metadata": {},
   "outputs": [
    {
     "data": {
      "text/plain": [
       "<torch._C.Generator at 0x104861fd0>"
      ]
     },
     "execution_count": 115,
     "metadata": {},
     "output_type": "execute_result"
    }
   ],
   "source": [
    "# Seeding model for reproducible results\n",
    "torch.manual_seed(251)"
   ]
  },
  {
   "cell_type": "code",
   "execution_count": 116,
   "id": "84736f8b-83bd-4888-87b7-1b3d68f3380d",
   "metadata": {},
   "outputs": [],
   "source": [
    "model = Model()\n",
    "criterion = nn.CrossEntropyLoss()\n",
    "optimizer = torch.optim.Adam(model.parameters(), lr = .01)"
   ]
  },
  {
   "cell_type": "markdown",
   "id": "4a2b02c0-c837-451e-a434-9eb3b6892d28",
   "metadata": {},
   "source": [
    "<h1>Training the model</h1>"
   ]
  },
  {
   "cell_type": "code",
   "execution_count": 117,
   "id": "6c2e2c13-0aef-4cd7-9f4e-7512efcf5510",
   "metadata": {},
   "outputs": [
    {
     "name": "stdout",
     "output_type": "stream",
     "text": [
      "Epoch: 0, Loss: 1.0752705335617065\n",
      "Epoch: 10, Loss: 0.35518091917037964\n",
      "Epoch: 20, Loss: 0.25027480721473694\n",
      "Epoch: 30, Loss: 0.21523962914943695\n",
      "Epoch: 40, Loss: 0.1943252980709076\n",
      "Epoch: 50, Loss: 0.17705762386322021\n",
      "Epoch: 60, Loss: 0.16687560081481934\n",
      "Epoch: 70, Loss: 0.16222672164440155\n",
      "Epoch: 80, Loss: 0.15951016545295715\n",
      "Epoch: 90, Loss: 0.1582859307527542\n"
     ]
    }
   ],
   "source": [
    "# Train\n",
    "# Determine # of epochs\n",
    "epochs = 100\n",
    "losses = []\n",
    "for i in range(epochs):\n",
    "    # Go forward and get a pred\n",
    "    yPred = model.forward(XTrain)\n",
    "\n",
    "    # measure loss\n",
    "    loss = criterion(yPred, yTrain) # predicted val vs actual val\n",
    "\n",
    "    # Keep track of losses\n",
    "    losses.append(loss.detach().numpy()) # stored for later graphing purposes\n",
    "\n",
    "    # Print every 10 epochs\n",
    "    if i % 10 == 0:\n",
    "        print(f\"Epoch: {i}, Loss: {loss}\")\n",
    "\n",
    "    # Back propogation\n",
    "    # Error rate of forward propogation fed back through the network to finetune weights\n",
    "    optimizer.zero_grad()\n",
    "    loss.backward()\n",
    "    optimizer.step()"
   ]
  },
  {
   "cell_type": "code",
   "execution_count": 118,
   "id": "50209428-57d2-4ad2-b524-45659c275dc3",
   "metadata": {},
   "outputs": [
    {
     "data": {
      "text/plain": [
       "Text(0.5, 0, 'epoch')"
      ]
     },
     "execution_count": 118,
     "metadata": {},
     "output_type": "execute_result"
    },
    {
     "data": {
      "image/png": "[encoded data removed]",
      "text/plain": [
       "<Figure size 640x480 with 1 Axes>"
      ]
     },
     "metadata": {},
     "output_type": "display_data"
    }
   ],
   "source": [
    "plt.plot(range(epochs), losses)\n",
    "plt.ylabel(\"loss/error\")\n",
    "plt.xlabel(\"epoch\")\n",
    "\n",
    "# Does have a 'leveling out'- model is learning!"
   ]
  },
  {
   "cell_type": "code",
   "execution_count": 119,
   "id": "30da208b-00a2-4c0a-a66a-d29a034b8ca8",
   "metadata": {},
   "outputs": [
    {
     "name": "stdout",
     "output_type": "stream",
     "text": [
      "131783 were correct\n"
     ]
    }
   ],
   "source": [
    "# Lets see how many we're getting correct in training data out of 140701\n",
    "\n",
    "correct = 0\n",
    "with torch.no_grad():\n",
    "    for i, data in enumerate(XTrain):\n",
    "        yVal = model.forward(data)\n",
    "\n",
    "        #print(f\"{i + 1}.) {str(yVal)} \\t {yTrain[i]}\")\n",
    "\n",
    "        #correct or not\n",
    "        if yVal.argmax().item() == yTrain[i]:\n",
    "            correct += 1\n",
    "\n",
    "print(f\"{correct} were correct\") # ~93%!"
   ]
  },
  {
   "cell_type": "markdown",
   "id": "e3f1bf16-9489-49ae-8d54-265cf8b4a9ce",
   "metadata": {},
   "source": [
    "<h1>Generate Results</h1>"
   ]
  },
  {
   "cell_type": "code",
   "execution_count": 120,
   "id": "dc22431f-ce33-4c29-9e2f-2aa6dd4558f4",
   "metadata": {},
   "outputs": [
    {
     "name": "stdout",
     "output_type": "stream",
     "text": [
      "93800\n"
     ]
    }
   ],
   "source": [
    "results = []\n",
    "\n",
    "with torch.no_grad():\n",
    "    model.eval()\n",
    "    for i, data in enumerate(XTest):\n",
    "        yVal = model(data)\n",
    "        pred = yVal.argmax().item()\n",
    "\n",
    "        #print(f\"{i + 1}.) Prediction: {pred}\")\n",
    "\n",
    "        results.append(f\"{pred}\")\n",
    "\n",
    "df = pd.DataFrame({\n",
    "    \"id\": test[\"id\"],\n",
    "    \"Depression\": results\n",
    "})\n",
    "\n",
    "df.to_csv(\"preds.csv\", index=False)\n",
    "print(len(df))"
   ]
  },
  {
   "cell_type": "code",
   "execution_count": null,
   "id": "9c125157-66f3-4c5a-94c8-9420a3c61002",
   "metadata": {},
   "outputs": [],
   "source": []
  }
 ],
 "metadata": {
  "kernelspec": {
   "display_name": "Python [conda env:wip]",
   "language": "python",
   "name": "conda-env-wip-py"
  },
  "language_info": {
   "codemirror_mode": {
    "name": "ipython",
    "version": 3
   },
   "file_extension": ".py",
   "mimetype": "text/x-python",
   "name": "python",
   "nbconvert_exporter": "python",
   "pygments_lexer": "ipython3",
   "version": "3.9.20"
  }
 },
 "nbformat": 4,
 "nbformat_minor": 5
}
